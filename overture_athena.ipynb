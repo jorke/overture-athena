{
 "cells": [
  {
   "cell_type": "code",
   "execution_count": null,
   "id": "0255557e-ffab-4ee6-a137-efb2507f1876",
   "metadata": {},
   "outputs": [],
   "source": [
    "%pip install awswrangler pandas geopandas mapclassify folium boto3 -q"
   ]
  },
  {
   "cell_type": "code",
   "execution_count": null,
   "id": "0b295641-3bf0-42bb-a879-6e92458d6ad7",
   "metadata": {},
   "outputs": [],
   "source": [
    "import awswrangler as wr\n",
    "import pandas as pd\n",
    "from datetime import datetime\n",
    "import boto3\n",
    "import json"
   ]
  },
  {
   "cell_type": "code",
   "execution_count": null,
   "id": "a3a82bd4-4f41-4c3a-a08c-7d651968f80e",
   "metadata": {},
   "outputs": [],
   "source": [
    "# create a data source for athena via a glue data catalog to overture:\n",
    "# https://docs.overturemaps.org/getting-data/athena-aws/\n",
    "client = boto3.client('athena', region_name='us-west-2')\n",
    "client.create_data_catalog(\n",
    "    Name='overture_data_catalog', \n",
    "    Type='GLUE',\n",
    "    Parameters={'catalog-id': '913550007193'},\n",
    ")"
   ]
  },
  {
   "cell_type": "code",
   "execution_count": null,
   "id": "d61d9bc9-2a6c-46d6-8fdf-13e9f8470900",
   "metadata": {},
   "outputs": [],
   "source": [
    "# if required this policy will need to be added to the IAM user for Athena queries.\n",
    "iam_client = boto3.client('iam')\n",
    "iam_client.create_policy(\n",
    "    PolicyName='OvertureGlueCatalogAccess',\n",
    "    PolicyDocument=json.dumps(\n",
    "        { \n",
    "            \"Version\": \"2012-10-17\",\n",
    "            \"Statement\": [\n",
    "                {\n",
    "                    \"Effect\": \"Allow\",\n",
    "                    \"Action\": [\n",
    "                         \"glue:GetTable*\",\n",
    "                          \"glue:GetDatabase*\",\n",
    "                          \"glue:GetPartition*\"\n",
    "                    ],\n",
    "                    \"Resource\": [\n",
    "                        \"arn:aws:glue:us-west-2:913550007193:catalog\",\n",
    "                        \"arn:aws:glue:us-west-2:913550007193:database/release\",\n",
    "                        \"arn:aws:glue:us-west-2:913550007193:table/*\"\n",
    "                    ]\n",
    "                }\n",
    "            ]\n",
    "        }\n",
    "    )\n",
    ")"
   ]
  },
  {
   "cell_type": "code",
   "execution_count": null,
   "id": "acff6d12-89f2-4f05-9b6c-8bd06c8829cb",
   "metadata": {},
   "outputs": [],
   "source": [
    "# list out primary categories from places data\n",
    "df = wr.athena.read_sql_query(\"\"\"\n",
    "SELECT distinct categories.primary FROM overture.release.v2024_12_18_0 WHERE type='place' order by categories.primary asc\n",
    "\"\"\", database=\"release\", data_source=\"overture_data_catalog\", ctas_approach=False)\n",
    "df"
   ]
  },
  {
   "cell_type": "code",
   "execution_count": null,
   "id": "7bc86343-4fd4-49d2-9df4-91aff353d710",
   "metadata": {},
   "outputs": [],
   "source": [
    "# bus stop data as an example is in infrastructure\n",
    "# query via athena into dataframe - at this point it can be exported as CSV/JSON etc.\n",
    "df = wr.athena.read_sql_query(\"\"\"\n",
    "SELECT   \n",
    "    names,\n",
    "    subtype,\n",
    "    class,\n",
    "    ST_GEOMFROMBINARY(geometry) AS geometry\n",
    "FROM\n",
    "    overture.release.v2024_12_18_0\n",
    "WHERE type='infrastructure' \n",
    "    AND bbox.xmin BETWEEN 140.952 AND 155.645\n",
    "    AND bbox.ymin BETWEEN -37.667 AND -28.143 \n",
    "    AND class = 'bus_stop'\n",
    "\"\"\", database=\"release\", data_source=\"overture_data_catalog\", ctas_approach=False)"
   ]
  },
  {
   "cell_type": "code",
   "execution_count": null,
   "id": "20e5505f-1530-4dee-92f8-9e05141ed180",
   "metadata": {},
   "outputs": [],
   "source": [
    "# create a spatial dataframe for visualisation, importatant to set the projection.\n",
    "import geopandas\n",
    "gdf = geopandas.GeoDataFrame(df)\n",
    "gdf = gdf.set_crs('EPSG:4326', allow_override=True)"
   ]
  },
  {
   "cell_type": "code",
   "execution_count": null,
   "id": "2b36d2cc-9443-4698-9866-03832accdf89",
   "metadata": {},
   "outputs": [],
   "source": [
    "import folium\n",
    "m = gdf.explore()\n",
    "folium.TileLayer(\"CartoDB positron\", show=False).add_to(m) \n",
    "m  # show map"
   ]
  },
  {
   "cell_type": "code",
   "execution_count": null,
   "id": "8786b014-9a95-48b8-a09f-a7fa6cd963a2",
   "metadata": {},
   "outputs": [],
   "source": [
    "# this example get everything labels as a park.\n",
    "park_df = wr.athena.read_sql_query(\"\"\"\n",
    "SELECT \n",
    "    names,\n",
    "    class,\n",
    "    surface,\n",
    "    source_tags,\n",
    "    ST_GEOMFROMBINARY(geometry) AS geometry\n",
    "FROM\n",
    "    overture.release.v2024_12_18_0\n",
    "WHERE type='land_use' \n",
    "    AND bbox.xmin BETWEEN 140.256 AND 155.645\n",
    "    AND bbox.ymin BETWEEN -37.667 AND -28.638 \n",
    "    AND subtype = 'park'\n",
    "\"\"\", database=\"release\", data_source=\"overture_data_catalog\", ctas_approach=False)"
   ]
  },
  {
   "cell_type": "code",
   "execution_count": null,
   "id": "239cd576-6f0e-4192-8deb-cb4becaf6b3c",
   "metadata": {},
   "outputs": [],
   "source": [
    "park_gdf = geopandas.GeoDataFrame(park_df)\n",
    "park_gdf = park_gdf.set_crs('EPSG:4326', allow_override=True)"
   ]
  },
  {
   "cell_type": "code",
   "execution_count": null,
   "id": "1e632621-a720-48e4-a51f-7c0aa977e8e4",
   "metadata": {},
   "outputs": [],
   "source": [
    "import folium\n",
    "\n",
    "m = park_gdf.explore()\n",
    "folium.TileLayer(\"CartoDB positron\", show=False).add_to(m) \n",
    "m  # show map"
   ]
  }
 ],
 "metadata": {
  "kernelspec": {
   "display_name": "Python 3 (ipykernel)",
   "language": "python",
   "name": "python3"
  },
  "language_info": {
   "codemirror_mode": {
    "name": "ipython",
    "version": 3
   },
   "file_extension": ".py",
   "mimetype": "text/x-python",
   "name": "python",
   "nbconvert_exporter": "python",
   "pygments_lexer": "ipython3",
   "version": "3.12.5"
  }
 },
 "nbformat": 4,
 "nbformat_minor": 5
}
